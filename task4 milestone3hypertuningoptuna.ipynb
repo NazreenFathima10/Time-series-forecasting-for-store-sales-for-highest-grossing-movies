{
 "cells": [
  {
   "cell_type": "code",
   "execution_count": 40,
   "id": "f3b5d075",
   "metadata": {},
   "outputs": [
    {
     "name": "stdout",
     "output_type": "stream",
     "text": [
      "Collecting optuna\n",
      "  Downloading optuna-3.6.1-py3-none-any.whl (380 kB)\n",
      "                                              0.0/380.1 kB ? eta -:--:--\n",
      "     --                                       20.5/380.1 kB ? eta -:--:--\n",
      "     -----------                            112.6/380.1 kB 1.3 MB/s eta 0:00:01\n",
      "     -------------------                    194.6/380.1 kB 1.3 MB/s eta 0:00:01\n",
      "     ------------------------               245.8/380.1 kB 1.5 MB/s eta 0:00:01\n",
      "     -------------------------------------- 380.1/380.1 kB 1.7 MB/s eta 0:00:00\n",
      "Collecting alembic>=1.5.0 (from optuna)\n",
      "  Downloading alembic-1.13.1-py3-none-any.whl (233 kB)\n",
      "                                              0.0/233.4 kB ? eta -:--:--\n",
      "     -------------------------------------- 233.4/233.4 kB 7.0 MB/s eta 0:00:00\n",
      "Collecting colorlog (from optuna)\n",
      "  Downloading colorlog-6.8.2-py3-none-any.whl (11 kB)\n",
      "Requirement already satisfied: numpy in c:\\users\\dell\\anaconda3\\lib\\site-packages (from optuna) (1.24.3)\n",
      "Requirement already satisfied: packaging>=20.0 in c:\\users\\dell\\anaconda3\\lib\\site-packages (from optuna) (23.0)\n",
      "Requirement already satisfied: sqlalchemy>=1.3.0 in c:\\users\\dell\\anaconda3\\lib\\site-packages (from optuna) (1.4.39)\n",
      "Requirement already satisfied: tqdm in c:\\users\\dell\\anaconda3\\lib\\site-packages (from optuna) (4.65.0)\n",
      "Requirement already satisfied: PyYAML in c:\\users\\dell\\anaconda3\\lib\\site-packages (from optuna) (6.0)\n",
      "Collecting Mako (from alembic>=1.5.0->optuna)\n",
      "  Downloading Mako-1.3.5-py3-none-any.whl (78 kB)\n",
      "                                              0.0/78.6 kB ? eta -:--:--\n",
      "     ---------------------------------------- 78.6/78.6 kB ? eta 0:00:00\n",
      "Requirement already satisfied: typing-extensions>=4 in c:\\users\\dell\\anaconda3\\lib\\site-packages (from alembic>=1.5.0->optuna) (4.6.3)\n",
      "Requirement already satisfied: greenlet!=0.4.17 in c:\\users\\dell\\anaconda3\\lib\\site-packages (from sqlalchemy>=1.3.0->optuna) (2.0.1)\n",
      "Requirement already satisfied: colorama in c:\\users\\dell\\anaconda3\\lib\\site-packages (from colorlog->optuna) (0.4.6)\n",
      "Requirement already satisfied: MarkupSafe>=0.9.2 in c:\\users\\dell\\anaconda3\\lib\\site-packages (from Mako->alembic>=1.5.0->optuna) (2.1.1)\n",
      "Installing collected packages: Mako, colorlog, alembic, optuna\n",
      "Successfully installed Mako-1.3.5 alembic-1.13.1 colorlog-6.8.2 optuna-3.6.1\n",
      "Note: you may need to restart the kernel to use updated packages.\n"
     ]
    }
   ],
   "source": [
    "pip install optuna"
   ]
  },
  {
   "cell_type": "code",
   "execution_count": 41,
   "id": "8229eea2",
   "metadata": {},
   "outputs": [],
   "source": [
    "import pandas as pd\n",
    "import numpy as np\n",
    "import optuna\n",
    "from sklearn.model_selection import train_test_split\n",
    "from sklearn.metrics import mean_squared_error\n",
    "from xgboost import XGBRegressor\n"
   ]
  },
  {
   "cell_type": "code",
   "execution_count": 42,
   "id": "2f3dbc27",
   "metadata": {},
   "outputs": [],
   "source": [
    "df = pd.read_csv('transformed_movie_data6.csv')"
   ]
  },
  {
   "cell_type": "code",
   "execution_count": 43,
   "id": "a290bc34",
   "metadata": {},
   "outputs": [],
   "source": [
    "# Handle date column if it exists\n",
    "if 'Date' in df.columns:\n",
    "    df['Date'] = pd.to_datetime(df['Date'])\n",
    "    df['Year'] = df['Date'].dt.year\n",
    "    df['Month'] = df['Date'].dt.month\n",
    "    df['Day'] = df['Date'].dt.day\n",
    "    df = df.drop('Date', axis=1)"
   ]
  },
  {
   "cell_type": "code",
   "execution_count": 53,
   "id": "2fe9fd35",
   "metadata": {},
   "outputs": [],
   "source": [
    "# Replace infinite or very large values with a finite value\n",
    "finite_value = 1  # Choose a finite value appropriate for your dataset\n",
    "df.replace([np.inf, -np.inf], finite_value, inplace=True)"
   ]
  },
  {
   "cell_type": "code",
   "execution_count": 54,
   "id": "fd001b56",
   "metadata": {},
   "outputs": [],
   "source": [
    "# Prepare the data for modeling\n",
    "X = df.drop('Opening', axis=1)\n",
    "y = df['Opening']"
   ]
  },
  {
   "cell_type": "code",
   "execution_count": 55,
   "id": "1fffde73",
   "metadata": {},
   "outputs": [],
   "source": [
    "# Ensure all data types are suitable for XGBoost\n",
    "for col in X.select_dtypes(include=['object']).columns:\n",
    "    X[col] = X[col].astype('category')"
   ]
  },
  {
   "cell_type": "code",
   "execution_count": 56,
   "id": "bc187283",
   "metadata": {},
   "outputs": [],
   "source": [
    "X_train, X_test, y_train, y_test = train_test_split(X, y, test_size=0.2, random_state=42)"
   ]
  },
  {
   "cell_type": "code",
   "execution_count": 62,
   "id": "fa67da9d",
   "metadata": {},
   "outputs": [],
   "source": [
    "# Define objective function for Optuna\n",
    "def objective(trial):\n",
    "    params = {\n",
    "        'n_estimators': trial.suggest_int('n_estimators', 100, 1000, log=True),\n",
    "        'max_depth': trial.suggest_int('max_depth', 3, 10),\n",
    "        'learning_rate': trial.suggest_float('learning_rate', 0.01, 0.2, log=True),\n",
    "        'subsample': trial.suggest_float('subsample', 0.6, 1.0),\n",
    "        'colsample_bytree': trial.suggest_float('colsample_bytree', 0.6, 1.0),\n",
    "        'gamma': trial.suggest_float('gamma', 0, 0.5),\n",
    "        'reg_alpha': trial.suggest_float('reg_alpha', 0, 0.5),\n",
    "        'reg_lambda': trial.suggest_float('reg_lambda', 0.5, 1.0),\n",
    "        'enable_categorical': True,\n",
    "    }\n",
    "\n",
    "    model = XGBRegressor(**params, random_state=42)\n",
    "    model.fit(X_train, y_train)\n",
    "    y_pred = model.predict(X_test)\n",
    "    rmse = np.sqrt(mean_squared_error(y_test, y_pred))\n",
    "    return rmse"
   ]
  },
  {
   "cell_type": "code",
   "execution_count": 65,
   "id": "cd4c0afc",
   "metadata": {},
   "outputs": [
    {
     "name": "stderr",
     "output_type": "stream",
     "text": [
      "[I 2024-05-17 18:30:08,506] A new study created in memory with name: no-name-fe303ae6-aba9-4c41-8f2a-a159d0171f57\n",
      "[I 2024-05-17 18:30:08,629] Trial 0 finished with value: 0.12163071157318157 and parameters: {'n_estimators': 305, 'max_depth': 5, 'learning_rate': 0.014608333869675841, 'subsample': 0.6353816703506975, 'colsample_bytree': 0.8154894741547372, 'gamma': 0.3754501579700272, 'reg_alpha': 0.14174967992945275, 'reg_lambda': 0.5978016572612107}. Best is trial 0 with value: 0.12163071157318157.\n",
      "[I 2024-05-17 18:30:08,684] Trial 1 finished with value: 0.10323855250512429 and parameters: {'n_estimators': 107, 'max_depth': 8, 'learning_rate': 0.0553980401733316, 'subsample': 0.7917041758232697, 'colsample_bytree': 0.6963473414591076, 'gamma': 0.18747377466719883, 'reg_alpha': 0.2511140970998818, 'reg_lambda': 0.6873266419421765}. Best is trial 1 with value: 0.10323855250512429.\n",
      "[I 2024-05-17 18:30:08,778] Trial 2 finished with value: 0.10763142006530545 and parameters: {'n_estimators': 226, 'max_depth': 9, 'learning_rate': 0.041161081756325824, 'subsample': 0.8062296908681761, 'colsample_bytree': 0.6215960905441701, 'gamma': 0.23396599198367463, 'reg_alpha': 0.009041314056440652, 'reg_lambda': 0.97330294664308}. Best is trial 1 with value: 0.10323855250512429.\n",
      "[I 2024-05-17 18:30:08,845] Trial 3 finished with value: 0.11733019835719392 and parameters: {'n_estimators': 208, 'max_depth': 7, 'learning_rate': 0.07695777220357485, 'subsample': 0.9162129903029883, 'colsample_bytree': 0.6463079479206553, 'gamma': 0.4413418844230165, 'reg_alpha': 0.17728295773303748, 'reg_lambda': 0.6761872745758746}. Best is trial 1 with value: 0.10323855250512429.\n",
      "[I 2024-05-17 18:30:09,046] Trial 4 finished with value: 0.11962430576755258 and parameters: {'n_estimators': 834, 'max_depth': 4, 'learning_rate': 0.08510869312402289, 'subsample': 0.8875044956162245, 'colsample_bytree': 0.7737946468955481, 'gamma': 0.40535960764362505, 'reg_alpha': 0.4912081751037058, 'reg_lambda': 0.7431040233200699}. Best is trial 1 with value: 0.10323855250512429.\n"
     ]
    }
   ],
   "source": [
    "# Create study and optimize hyperparameters\n",
    "study = optuna.create_study(direction='minimize')\n",
    "study.optimize(objective, n_trials=5)\n"
   ]
  },
  {
   "cell_type": "code",
   "execution_count": null,
   "id": "88ba33be",
   "metadata": {},
   "outputs": [],
   "source": []
  }
 ],
 "metadata": {
  "kernelspec": {
   "display_name": "Python 3 (ipykernel)",
   "language": "python",
   "name": "python3"
  },
  "language_info": {
   "codemirror_mode": {
    "name": "ipython",
    "version": 3
   },
   "file_extension": ".py",
   "mimetype": "text/x-python",
   "name": "python",
   "nbconvert_exporter": "python",
   "pygments_lexer": "ipython3",
   "version": "3.11.3"
  }
 },
 "nbformat": 4,
 "nbformat_minor": 5
}
