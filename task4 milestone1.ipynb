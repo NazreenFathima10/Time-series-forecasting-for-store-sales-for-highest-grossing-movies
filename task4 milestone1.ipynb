{
 "cells": [
  {
   "cell_type": "code",
   "execution_count": 11,
   "id": "aace6fe2",
   "metadata": {},
   "outputs": [],
   "source": [
    "import pandas as pd\n",
    "from sklearn.preprocessing import OneHotEncoder\n",
    "from sklearn.compose import ColumnTransformer\n",
    "from sklearn.pipeline import Pipeline"
   ]
  },
  {
   "cell_type": "code",
   "execution_count": 12,
   "id": "d15d1ac2",
   "metadata": {},
   "outputs": [],
   "source": [
    "df = pd.read_csv(\"preprocessed_Top_Highest_Openings.csv\")\n"
   ]
  },
  {
   "cell_type": "code",
   "execution_count": 13,
   "id": "8e4e1a16",
   "metadata": {},
   "outputs": [],
   "source": [
    "categorical_cols = ['Distributor']\n",
    "numerical_cols = ['Opening', 'Total Gross', 'Theaters', 'Average','% of Total']\n",
    "\n"
   ]
  },
  {
   "cell_type": "code",
   "execution_count": 14,
   "id": "8e0e5153",
   "metadata": {},
   "outputs": [],
   "source": [
    "encoder = OneHotEncoder(sparse_output=False)"
   ]
  },
  {
   "cell_type": "code",
   "execution_count": 15,
   "id": "dfb25672",
   "metadata": {},
   "outputs": [],
   "source": [
    "one_hot_encoded = encoder.fit_transform(df[categorical_cols])"
   ]
  },
  {
   "cell_type": "code",
   "execution_count": 16,
   "id": "c665ec82",
   "metadata": {},
   "outputs": [],
   "source": [
    "one_hot_df = pd.DataFrame(one_hot_encoded, columns=encoder.get_feature_names_out(categorical_cols))\n"
   ]
  },
  {
   "cell_type": "code",
   "execution_count": 17,
   "id": "54683b03",
   "metadata": {},
   "outputs": [],
   "source": [
    "df_encoded = pd.concat([df, one_hot_df], axis=1)\n"
   ]
  },
  {
   "cell_type": "code",
   "execution_count": 18,
   "id": "c97d36f8",
   "metadata": {},
   "outputs": [],
   "source": [
    "df_encoded = df_encoded.drop(categorical_cols, axis=1)"
   ]
  },
  {
   "cell_type": "code",
   "execution_count": 19,
   "id": "658a381c",
   "metadata": {},
   "outputs": [
    {
     "name": "stdout",
     "output_type": "stream",
     "text": [
      "Encoded data : \n",
      "                                        Release    Opening  Total Gross  \\\n",
      "0                             Avengers: Endgame  357115007    858373000   \n",
      "1                       Spider-Man: No Way Home  260138569    804793477   \n",
      "2                        Avengers: Infinity War  257698183    678815482   \n",
      "3    Star Wars: Episode VII - The Force Awakens  247966675    936662225   \n",
      "4       Star Wars: Episode VIII - The Last Jedi  220009584    620181382   \n",
      "..                                          ...        ...          ...   \n",
      "995                      The Hitman's Bodyguard   21384504     75468583   \n",
      "996                            Angel Has Fallen   21380987     69030436   \n",
      "997                   Ice Age: Collision Course   21373064     64063008   \n",
      "998                      Why Did I Get Married?   21353789     55204525   \n",
      "999                                       Turbo   21312625     83028128   \n",
      "\n",
      "     % of Total  Theaters  Average        Date  Distributor_-  \\\n",
      "0          41.6      4662    76601  26-04-2019            0.0   \n",
      "1          32.3      4336    59995  17-12-2021            0.0   \n",
      "2          38.0      4474    57599  27-04-2018            0.0   \n",
      "3          26.5      4134    59982  18-12-2015            0.0   \n",
      "4          35.5      4232    51987  15-12-2017            0.0   \n",
      "..          ...       ...      ...         ...            ...   \n",
      "995        28.3      3377     6332  18-08-2017            0.0   \n",
      "996        31.0      3286     6506  23-08-2019            0.0   \n",
      "997        33.4      3992     5353  22-07-2016            0.0   \n",
      "998        38.7      2011    10618  10-12-2007            0.0   \n",
      "999        25.7      3806     5599  17-07-2013            0.0   \n",
      "\n",
      "     Distributor_20th Century Studios  Distributor_Columbia Pictures  ...  \\\n",
      "0                                 0.0                            0.0  ...   \n",
      "1                                 0.0                            0.0  ...   \n",
      "2                                 0.0                            0.0  ...   \n",
      "3                                 0.0                            0.0  ...   \n",
      "4                                 0.0                            0.0  ...   \n",
      "..                                ...                            ...  ...   \n",
      "995                               0.0                            0.0  ...   \n",
      "996                               0.0                            0.0  ...   \n",
      "997                               0.0                            0.0  ...   \n",
      "998                               0.0                            0.0  ...   \n",
      "999                               0.0                            0.0  ...   \n",
      "\n",
      "     Distributor_Sony Pictures Releasing  Distributor_Summit Entertainment  \\\n",
      "0                                    0.0                               0.0   \n",
      "1                                    1.0                               0.0   \n",
      "2                                    0.0                               0.0   \n",
      "3                                    0.0                               0.0   \n",
      "4                                    0.0                               0.0   \n",
      "..                                   ...                               ...   \n",
      "995                                  0.0                               0.0   \n",
      "996                                  0.0                               0.0   \n",
      "997                                  0.0                               0.0   \n",
      "998                                  0.0                               0.0   \n",
      "999                                  0.0                               0.0   \n",
      "\n",
      "     Distributor_The Weinstein Company  Distributor_TriStar Pictures  \\\n",
      "0                                  0.0                           0.0   \n",
      "1                                  0.0                           0.0   \n",
      "2                                  0.0                           0.0   \n",
      "3                                  0.0                           0.0   \n",
      "4                                  0.0                           0.0   \n",
      "..                                 ...                           ...   \n",
      "995                                0.0                           0.0   \n",
      "996                                0.0                           0.0   \n",
      "997                                0.0                           0.0   \n",
      "998                                0.0                           0.0   \n",
      "999                                0.0                           0.0   \n",
      "\n",
      "     Distributor_Twentieth Century Fox  Distributor_United Artists Releasing  \\\n",
      "0                                  0.0                                   0.0   \n",
      "1                                  0.0                                   0.0   \n",
      "2                                  0.0                                   0.0   \n",
      "3                                  0.0                                   0.0   \n",
      "4                                  0.0                                   0.0   \n",
      "..                                 ...                                   ...   \n",
      "995                                0.0                                   0.0   \n",
      "996                                0.0                                   0.0   \n",
      "997                                1.0                                   0.0   \n",
      "998                                0.0                                   0.0   \n",
      "999                                1.0                                   0.0   \n",
      "\n",
      "     Distributor_Universal Pictures  \\\n",
      "0                               0.0   \n",
      "1                               0.0   \n",
      "2                               0.0   \n",
      "3                               0.0   \n",
      "4                               0.0   \n",
      "..                              ...   \n",
      "995                             0.0   \n",
      "996                             0.0   \n",
      "997                             0.0   \n",
      "998                             0.0   \n",
      "999                             0.0   \n",
      "\n",
      "     Distributor_Universal Pictures International  \\\n",
      "0                                             0.0   \n",
      "1                                             0.0   \n",
      "2                                             0.0   \n",
      "3                                             0.0   \n",
      "4                                             0.0   \n",
      "..                                            ...   \n",
      "995                                           0.0   \n",
      "996                                           0.0   \n",
      "997                                           0.0   \n",
      "998                                           0.0   \n",
      "999                                           0.0   \n",
      "\n",
      "     Distributor_Walt Disney Studios Motion Pictures  Distributor_Warner Bros.  \n",
      "0                                                1.0                       0.0  \n",
      "1                                                0.0                       0.0  \n",
      "2                                                1.0                       0.0  \n",
      "3                                                1.0                       0.0  \n",
      "4                                                1.0                       0.0  \n",
      "..                                               ...                       ...  \n",
      "995                                              0.0                       0.0  \n",
      "996                                              0.0                       0.0  \n",
      "997                                              0.0                       0.0  \n",
      "998                                              0.0                       0.0  \n",
      "999                                              0.0                       0.0  \n",
      "\n",
      "[1000 rows x 35 columns]\n"
     ]
    }
   ],
   "source": [
    "print(f\"Encoded data : \\n{df_encoded}\")"
   ]
  },
  {
   "cell_type": "code",
   "execution_count": null,
   "id": "f6b07e61",
   "metadata": {},
   "outputs": [],
   "source": []
  },
  {
   "cell_type": "code",
   "execution_count": null,
   "id": "95b91082",
   "metadata": {},
   "outputs": [],
   "source": []
  }
 ],
 "metadata": {
  "kernelspec": {
   "display_name": "Python 3 (ipykernel)",
   "language": "python",
   "name": "python3"
  },
  "language_info": {
   "codemirror_mode": {
    "name": "ipython",
    "version": 3
   },
   "file_extension": ".py",
   "mimetype": "text/x-python",
   "name": "python",
   "nbconvert_exporter": "python",
   "pygments_lexer": "ipython3",
   "version": "3.11.3"
  }
 },
 "nbformat": 4,
 "nbformat_minor": 5
}
