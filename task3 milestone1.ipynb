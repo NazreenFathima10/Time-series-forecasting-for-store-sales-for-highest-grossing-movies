{
 "cells": [
  {
   "cell_type": "code",
   "execution_count": 3,
   "metadata": {},
   "outputs": [],
   "source": [
    "import numpy as np"
   ]
  },
  {
   "cell_type": "code",
   "execution_count": 4,
   "metadata": {},
   "outputs": [],
   "source": [
    "import pandas as pd"
   ]
  },
  {
   "cell_type": "code",
   "execution_count": 5,
   "metadata": {},
   "outputs": [],
   "source": [
    "df =pd.read_csv(\"Top_Highest_Openings.csv\")"
   ]
  },
  {
   "cell_type": "code",
   "execution_count": 6,
   "metadata": {},
   "outputs": [
    {
     "name": "stdout",
     "output_type": "stream",
     "text": [
      "                                      Release    Opening  Total Gross  \\\n",
      "0                           Avengers: Endgame  357115007    858373000   \n",
      "1                     Spider-Man: No Way Home  260138569    804793477   \n",
      "2                      Avengers: Infinity War  257698183    678815482   \n",
      "3  Star Wars: Episode VII - The Force Awakens  247966675    936662225   \n",
      "4     Star Wars: Episode VIII - The Last Jedi  220009584    620181382   \n",
      "\n",
      "   % of Total  Theaters  Average        Date  \\\n",
      "0        41.6      4662    76601  26-04-2019   \n",
      "1        32.3      4336    59995  17-12-2021   \n",
      "2        38.0      4474    57599  27-04-2018   \n",
      "3        26.5      4134    59982  18-12-2015   \n",
      "4        35.5      4232    51987  15-12-2017   \n",
      "\n",
      "                           Distributor  \n",
      "0  Walt Disney Studios Motion Pictures  \n",
      "1              Sony Pictures Releasing  \n",
      "2  Walt Disney Studios Motion Pictures  \n",
      "3  Walt Disney Studios Motion Pictures  \n",
      "4  Walt Disney Studios Motion Pictures  \n"
     ]
    }
   ],
   "source": [
    "print(df.head())"
   ]
  },
  {
   "cell_type": "code",
   "execution_count": 7,
   "metadata": {},
   "outputs": [
    {
     "name": "stdout",
     "output_type": "stream",
     "text": [
      "Release        0\n",
      "Opening        0\n",
      "Total Gross    0\n",
      "% of Total     0\n",
      "Theaters       0\n",
      "Average        0\n",
      "Date           0\n",
      "Distributor    0\n",
      "dtype: int64\n"
     ]
    }
   ],
   "source": [
    "print(df.isnull().sum())"
   ]
  },
  {
   "cell_type": "code",
   "execution_count": 9,
   "metadata": {},
   "outputs": [
    {
     "name": "stdout",
     "output_type": "stream",
     "text": [
      "Original Data:\n",
      "                                      Release    Opening  Total Gross  \\\n",
      "0                           Avengers: Endgame  357115007    858373000   \n",
      "1                     Spider-Man: No Way Home  260138569    804793477   \n",
      "2                      Avengers: Infinity War  257698183    678815482   \n",
      "3  Star Wars: Episode VII - The Force Awakens  247966675    936662225   \n",
      "4     Star Wars: Episode VIII - The Last Jedi  220009584    620181382   \n",
      "\n",
      "   % of Total  Theaters  Average        Date  \\\n",
      "0        41.6      4662    76601  26-04-2019   \n",
      "1        32.3      4336    59995  17-12-2021   \n",
      "2        38.0      4474    57599  27-04-2018   \n",
      "3        26.5      4134    59982  18-12-2015   \n",
      "4        35.5      4232    51987  15-12-2017   \n",
      "\n",
      "                           Distributor  \n",
      "0  Walt Disney Studios Motion Pictures  \n",
      "1              Sony Pictures Releasing  \n",
      "2  Walt Disney Studios Motion Pictures  \n",
      "3  Walt Disney Studios Motion Pictures  \n",
      "4  Walt Disney Studios Motion Pictures  \n"
     ]
    }
   ],
   "source": [
    "print(\"Original Data:\")\n",
    "print(df.head())\n"
   ]
  },
  {
   "cell_type": "code",
   "execution_count": 10,
   "metadata": {},
   "outputs": [
    {
     "name": "stdout",
     "output_type": "stream",
     "text": [
      "\n",
      "Missing Values:\n",
      "Release        0\n",
      "Opening        0\n",
      "Total Gross    0\n",
      "% of Total     0\n",
      "Theaters       0\n",
      "Average        0\n",
      "Date           0\n",
      "Distributor    0\n",
      "dtype: int64\n"
     ]
    }
   ],
   "source": [
    "print(\"\\nMissing Values:\")\n",
    "print(df.isnull().sum())\n"
   ]
  },
  {
   "cell_type": "code",
   "execution_count": 13,
   "metadata": {},
   "outputs": [],
   "source": [
    "df['Date'] = pd.to_datetime(df['Date'],format='%d-%m-%Y')\n"
   ]
  },
  {
   "cell_type": "code",
   "execution_count": 14,
   "metadata": {},
   "outputs": [
    {
     "name": "stdout",
     "output_type": "stream",
     "text": [
      "                                      Release    Opening  Total Gross  \\\n",
      "0                           Avengers: Endgame  357115007    858373000   \n",
      "1                     Spider-Man: No Way Home  260138569    804793477   \n",
      "2                      Avengers: Infinity War  257698183    678815482   \n",
      "3  Star Wars: Episode VII - The Force Awakens  247966675    936662225   \n",
      "4     Star Wars: Episode VIII - The Last Jedi  220009584    620181382   \n",
      "\n",
      "   % of Total  Theaters  Average       Date  \\\n",
      "0        41.6      4662    76601 2019-04-26   \n",
      "1        32.3      4336    59995 2021-12-17   \n",
      "2        38.0      4474    57599 2018-04-27   \n",
      "3        26.5      4134    59982 2015-12-18   \n",
      "4        35.5      4232    51987 2017-12-15   \n",
      "\n",
      "                           Distributor  \n",
      "0  Walt Disney Studios Motion Pictures  \n",
      "1              Sony Pictures Releasing  \n",
      "2  Walt Disney Studios Motion Pictures  \n",
      "3  Walt Disney Studios Motion Pictures  \n",
      "4  Walt Disney Studios Motion Pictures  \n"
     ]
    }
   ],
   "source": [
    "print(df.head())"
   ]
  },
  {
   "cell_type": "code",
   "execution_count": 15,
   "metadata": {},
   "outputs": [],
   "source": [
    "result = df.groupby('Distributor').apply(lambda x: x.loc[(x['Total Gross'] == x['Total Gross'].max()) & (x['Opening'] == x['Opening'].max())])\n"
   ]
  },
  {
   "cell_type": "code",
   "execution_count": 16,
   "metadata": {},
   "outputs": [],
   "source": [
    "result.reset_index(drop=True, inplace=True)\n"
   ]
  },
  {
   "cell_type": "code",
   "execution_count": 20,
   "metadata": {},
   "outputs": [
    {
     "name": "stdout",
     "output_type": "stream",
     "text": [
      "                         Distributor                              Release  \\\n",
      "0                                  -          Taylor Swift: The Eras Tour   \n",
      "1               20th Century Studios             Avatar: The Way of Water   \n",
      "2                  Columbia Pictures  Spider-Man: Across the Spider-Verse   \n",
      "3            DreamWorks Distribution                              Shrek 2   \n",
      "4                     Focus Features                        Downton Abbey   \n",
      "5                    Lionsgate Films      The Hunger Games: Catching Fire   \n",
      "6                Metro-Goldwyn-Mayer                             Hannibal   \n",
      "7                            Miramax                          Scary Movie   \n",
      "8                    Newmarket Films            The Passion of the Christ   \n",
      "9                   Relativity Media                            Immortals   \n",
      "10                Revolution Studios                                  xXx   \n",
      "11                       Screen Gems                              The Vow   \n",
      "12           Sony Pictures Releasing              Spider-Man: No Way Home   \n",
      "13          United Artists Releasing                            Creed III   \n",
      "14                Universal Pictures                       Jurassic World   \n",
      "15  Universal Pictures International              Five Nights at Freddy's   \n",
      "\n",
      "    Total Gross    Opening  \n",
      "0     180756269   93224755  \n",
      "1     684075767  134100226  \n",
      "2     381311319  120663589  \n",
      "3     441426807  108037878  \n",
      "4      96853865   31033665  \n",
      "5     424668047  158074286  \n",
      "6     165092268   58003121  \n",
      "7     157019771   42346669  \n",
      "8     370274604   83848082  \n",
      "9      83504017   32206425  \n",
      "10    142109382   44506103  \n",
      "11    125014030   41202458  \n",
      "12    804793477  260138569  \n",
      "13    156248615   58370007  \n",
      "14    652270625  208806270  \n",
      "15    137275620   80001720  \n"
     ]
    }
   ],
   "source": [
    "print(result[['Distributor', 'Release', 'Total Gross','Opening']])"
   ]
  },
  {
   "cell_type": "code",
   "execution_count": 21,
   "metadata": {},
   "outputs": [
    {
     "name": "stdout",
     "output_type": "stream",
     "text": [
      "\n",
      "Missing Values:\n",
      "Release        0\n",
      "Opening        0\n",
      "Total Gross    0\n",
      "% of Total     0\n",
      "Theaters       0\n",
      "Average        0\n",
      "Date           0\n",
      "Distributor    0\n",
      "dtype: int64\n"
     ]
    }
   ],
   "source": [
    "print(\"\\nMissing Values:\")\n",
    "print(df.isnull().sum())\n"
   ]
  },
  {
   "cell_type": "code",
   "execution_count": 22,
   "metadata": {},
   "outputs": [],
   "source": [
    "clean= df.dropna()\n"
   ]
  },
  {
   "cell_type": "code",
   "execution_count": 23,
   "metadata": {},
   "outputs": [
    {
     "name": "stdout",
     "output_type": "stream",
     "text": [
      "                                        Release    Opening  Total Gross  \\\n",
      "0                             Avengers: Endgame  357115007    858373000   \n",
      "1                       Spider-Man: No Way Home  260138569    804793477   \n",
      "2                        Avengers: Infinity War  257698183    678815482   \n",
      "3    Star Wars: Episode VII - The Force Awakens  247966675    936662225   \n",
      "4       Star Wars: Episode VIII - The Last Jedi  220009584    620181382   \n",
      "..                                          ...        ...          ...   \n",
      "995                      The Hitman's Bodyguard   21384504     75468583   \n",
      "996                            Angel Has Fallen   21380987     69030436   \n",
      "997                   Ice Age: Collision Course   21373064     64063008   \n",
      "998                      Why Did I Get Married?   21353789     55204525   \n",
      "999                                       Turbo   21312625     83028128   \n",
      "\n",
      "     % of Total  Theaters  Average       Date  \\\n",
      "0          41.6      4662    76601 2019-04-26   \n",
      "1          32.3      4336    59995 2021-12-17   \n",
      "2          38.0      4474    57599 2018-04-27   \n",
      "3          26.5      4134    59982 2015-12-18   \n",
      "4          35.5      4232    51987 2017-12-15   \n",
      "..          ...       ...      ...        ...   \n",
      "995        28.3      3377     6332 2017-08-18   \n",
      "996        31.0      3286     6506 2019-08-23   \n",
      "997        33.4      3992     5353 2016-07-22   \n",
      "998        38.7      2011    10618 2007-12-10   \n",
      "999        25.7      3806     5599 2013-07-17   \n",
      "\n",
      "                             Distributor  \n",
      "0    Walt Disney Studios Motion Pictures  \n",
      "1                Sony Pictures Releasing  \n",
      "2    Walt Disney Studios Motion Pictures  \n",
      "3    Walt Disney Studios Motion Pictures  \n",
      "4    Walt Disney Studios Motion Pictures  \n",
      "..                                   ...  \n",
      "995                      Lionsgate Films  \n",
      "996                      Lionsgate Films  \n",
      "997                Twentieth Century Fox  \n",
      "998                      Lionsgate Films  \n",
      "999                Twentieth Century Fox  \n",
      "\n",
      "[1000 rows x 8 columns]\n"
     ]
    }
   ],
   "source": [
    "print(clean)"
   ]
  },
  {
   "cell_type": "code",
   "execution_count": 24,
   "metadata": {},
   "outputs": [
    {
     "name": "stdout",
     "output_type": "stream",
     "text": [
      "                                        Release    Opening  Total Gross  \\\n",
      "0                             Avengers: Endgame  357115007    858373000   \n",
      "1                       Spider-Man: No Way Home  260138569    804793477   \n",
      "2                        Avengers: Infinity War  257698183    678815482   \n",
      "3    Star Wars: Episode VII - The Force Awakens  247966675    936662225   \n",
      "4       Star Wars: Episode VIII - The Last Jedi  220009584    620181382   \n",
      "..                                          ...        ...          ...   \n",
      "995                      The Hitman's Bodyguard   21384504     75468583   \n",
      "996                            Angel Has Fallen   21380987     69030436   \n",
      "997                   Ice Age: Collision Course   21373064     64063008   \n",
      "998                      Why Did I Get Married?   21353789     55204525   \n",
      "999                                       Turbo   21312625     83028128   \n",
      "\n",
      "     % of Total  Theaters  Average       Date  \\\n",
      "0          41.6      4662    76601 2019-04-26   \n",
      "1          32.3      4336    59995 2021-12-17   \n",
      "2          38.0      4474    57599 2018-04-27   \n",
      "3          26.5      4134    59982 2015-12-18   \n",
      "4          35.5      4232    51987 2017-12-15   \n",
      "..          ...       ...      ...        ...   \n",
      "995        28.3      3377     6332 2017-08-18   \n",
      "996        31.0      3286     6506 2019-08-23   \n",
      "997        33.4      3992     5353 2016-07-22   \n",
      "998        38.7      2011    10618 2007-12-10   \n",
      "999        25.7      3806     5599 2013-07-17   \n",
      "\n",
      "                             Distributor  \n",
      "0    Walt Disney Studios Motion Pictures  \n",
      "1                Sony Pictures Releasing  \n",
      "2    Walt Disney Studios Motion Pictures  \n",
      "3    Walt Disney Studios Motion Pictures  \n",
      "4    Walt Disney Studios Motion Pictures  \n",
      "..                                   ...  \n",
      "995                      Lionsgate Films  \n",
      "996                      Lionsgate Films  \n",
      "997                Twentieth Century Fox  \n",
      "998                      Lionsgate Films  \n",
      "999                Twentieth Century Fox  \n",
      "\n",
      "[1000 rows x 8 columns]\n"
     ]
    }
   ],
   "source": [
    "clean= df.dropna(axis=1)\n",
    "print(clean)"
   ]
  },
  {
   "cell_type": "code",
   "execution_count": 25,
   "metadata": {},
   "outputs": [
    {
     "name": "stdout",
     "output_type": "stream",
     "text": [
      "                                        Release    Opening  Total Gross  \\\n",
      "0                             Avengers: Endgame  357115007    858373000   \n",
      "1                       Spider-Man: No Way Home  260138569    804793477   \n",
      "2                        Avengers: Infinity War  257698183    678815482   \n",
      "3    Star Wars: Episode VII - The Force Awakens  247966675    936662225   \n",
      "4       Star Wars: Episode VIII - The Last Jedi  220009584    620181382   \n",
      "..                                          ...        ...          ...   \n",
      "995                      The Hitman's Bodyguard   21384504     75468583   \n",
      "996                            Angel Has Fallen   21380987     69030436   \n",
      "997                   Ice Age: Collision Course   21373064     64063008   \n",
      "998                      Why Did I Get Married?   21353789     55204525   \n",
      "999                                       Turbo   21312625     83028128   \n",
      "\n",
      "     % of Total  Theaters  Average       Date  \\\n",
      "0          41.6      4662    76601 2019-04-26   \n",
      "1          32.3      4336    59995 2021-12-17   \n",
      "2          38.0      4474    57599 2018-04-27   \n",
      "3          26.5      4134    59982 2015-12-18   \n",
      "4          35.5      4232    51987 2017-12-15   \n",
      "..          ...       ...      ...        ...   \n",
      "995        28.3      3377     6332 2017-08-18   \n",
      "996        31.0      3286     6506 2019-08-23   \n",
      "997        33.4      3992     5353 2016-07-22   \n",
      "998        38.7      2011    10618 2007-12-10   \n",
      "999        25.7      3806     5599 2013-07-17   \n",
      "\n",
      "                             Distributor  \n",
      "0    Walt Disney Studios Motion Pictures  \n",
      "1                Sony Pictures Releasing  \n",
      "2    Walt Disney Studios Motion Pictures  \n",
      "3    Walt Disney Studios Motion Pictures  \n",
      "4    Walt Disney Studios Motion Pictures  \n",
      "..                                   ...  \n",
      "995                      Lionsgate Films  \n",
      "996                      Lionsgate Films  \n",
      "997                Twentieth Century Fox  \n",
      "998                      Lionsgate Films  \n",
      "999                Twentieth Century Fox  \n",
      "\n",
      "[1000 rows x 8 columns]\n"
     ]
    }
   ],
   "source": [
    "clean= df.dropna(subset=['Distributor','Date'])\n",
    "print(clean)"
   ]
  },
  {
   "cell_type": "code",
   "execution_count": 26,
   "metadata": {},
   "outputs": [
    {
     "name": "stdout",
     "output_type": "stream",
     "text": [
      "                                        Release    Opening  Total Gross  \\\n",
      "0                             Avengers: Endgame  357115007    858373000   \n",
      "1                       Spider-Man: No Way Home  260138569    804793477   \n",
      "2                        Avengers: Infinity War  257698183    678815482   \n",
      "3    Star Wars: Episode VII - The Force Awakens  247966675    936662225   \n",
      "4       Star Wars: Episode VIII - The Last Jedi  220009584    620181382   \n",
      "..                                          ...        ...          ...   \n",
      "995                      The Hitman's Bodyguard   21384504     75468583   \n",
      "996                            Angel Has Fallen   21380987     69030436   \n",
      "997                   Ice Age: Collision Course   21373064     64063008   \n",
      "998                      Why Did I Get Married?   21353789     55204525   \n",
      "999                                       Turbo   21312625     83028128   \n",
      "\n",
      "     % of Total  Theaters  Average       Date  \\\n",
      "0          41.6      4662    76601 2019-04-26   \n",
      "1          32.3      4336    59995 2021-12-17   \n",
      "2          38.0      4474    57599 2018-04-27   \n",
      "3          26.5      4134    59982 2015-12-18   \n",
      "4          35.5      4232    51987 2017-12-15   \n",
      "..          ...       ...      ...        ...   \n",
      "995        28.3      3377     6332 2017-08-18   \n",
      "996        31.0      3286     6506 2019-08-23   \n",
      "997        33.4      3992     5353 2016-07-22   \n",
      "998        38.7      2011    10618 2007-12-10   \n",
      "999        25.7      3806     5599 2013-07-17   \n",
      "\n",
      "                             Distributor  \n",
      "0    Walt Disney Studios Motion Pictures  \n",
      "1                Sony Pictures Releasing  \n",
      "2    Walt Disney Studios Motion Pictures  \n",
      "3    Walt Disney Studios Motion Pictures  \n",
      "4    Walt Disney Studios Motion Pictures  \n",
      "..                                   ...  \n",
      "995                      Lionsgate Films  \n",
      "996                      Lionsgate Films  \n",
      "997                Twentieth Century Fox  \n",
      "998                      Lionsgate Films  \n",
      "999                Twentieth Century Fox  \n",
      "\n",
      "[1000 rows x 8 columns]\n"
     ]
    }
   ],
   "source": [
    "clean= df.drop_duplicates()\n",
    "print(clean)"
   ]
  },
  {
   "cell_type": "code",
   "execution_count": 32,
   "metadata": {},
   "outputs": [
    {
     "name": "stdout",
     "output_type": "stream",
     "text": [
      "                                        Release    Opening  Total Gross  \\\n",
      "0                             Avengers: Endgame  357115007    858373000   \n",
      "1                       Spider-Man: No Way Home  260138569    804793477   \n",
      "2                        Avengers: Infinity War  257698183    678815482   \n",
      "3    Star Wars: Episode VII - The Force Awakens  247966675    936662225   \n",
      "4       Star Wars: Episode VIII - The Last Jedi  220009584    620181382   \n",
      "..                                          ...        ...          ...   \n",
      "995                      The Hitman's Bodyguard   21384504     75468583   \n",
      "996                            Angel Has Fallen   21380987     69030436   \n",
      "997                   Ice Age: Collision Course   21373064     64063008   \n",
      "998                      Why Did I Get Married?   21353789     55204525   \n",
      "999                                       Turbo   21312625     83028128   \n",
      "\n",
      "     % of Total  Theaters  Average       Date  \\\n",
      "0          41.6      4662    76601 2019-04-26   \n",
      "1          32.3      4336    59995 2021-12-17   \n",
      "2          38.0      4474    57599 2018-04-27   \n",
      "3          26.5      4134    59982 2015-12-18   \n",
      "4          35.5      4232    51987 2017-12-15   \n",
      "..          ...       ...      ...        ...   \n",
      "995        28.3      3377     6332 2017-08-18   \n",
      "996        31.0      3286     6506 2019-08-23   \n",
      "997        33.4      3992     5353 2016-07-22   \n",
      "998        38.7      2011    10618 2007-12-10   \n",
      "999        25.7      3806     5599 2013-07-17   \n",
      "\n",
      "                             Distributor  \n",
      "0    Walt Disney Studios Motion Pictures  \n",
      "1                Sony Pictures Releasing  \n",
      "2    Walt Disney Studios Motion Pictures  \n",
      "3    Walt Disney Studios Motion Pictures  \n",
      "4    Walt Disney Studios Motion Pictures  \n",
      "..                                   ...  \n",
      "995                      Lionsgate Films  \n",
      "996                      Lionsgate Films  \n",
      "997                Twentieth Century Fox  \n",
      "998                      Lionsgate Films  \n",
      "999                Twentieth Century Fox  \n",
      "\n",
      "[959 rows x 8 columns]\n"
     ]
    }
   ],
   "source": [
    "clean= df.drop_duplicates(['Theaters','Distributor'])\n",
    "print(clean)"
   ]
  },
  {
   "cell_type": "code",
   "execution_count": 34,
   "metadata": {},
   "outputs": [],
   "source": [
    "df.to_csv(\"preprocessed_Top_Highest_Openings.csv\",index=False)"
   ]
  },
  {
   "cell_type": "code",
   "execution_count": 35,
   "metadata": {},
   "outputs": [],
   "source": [
    "df =pd.read_csv(\"preprocessed_Top_Highest_Openings.csv\")"
   ]
  },
  {
   "cell_type": "code",
   "execution_count": 36,
   "metadata": {},
   "outputs": [
    {
     "name": "stdout",
     "output_type": "stream",
     "text": [
      "The Preprocessed dataset is:\n",
      "                                      Release    Opening  Total Gross  \\\n",
      "0                           Avengers: Endgame  357115007    858373000   \n",
      "1                     Spider-Man: No Way Home  260138569    804793477   \n",
      "2                      Avengers: Infinity War  257698183    678815482   \n",
      "3  Star Wars: Episode VII - The Force Awakens  247966675    936662225   \n",
      "4     Star Wars: Episode VIII - The Last Jedi  220009584    620181382   \n",
      "\n",
      "   % of Total  Theaters  Average        Date  \\\n",
      "0        41.6      4662    76601  2019-04-26   \n",
      "1        32.3      4336    59995  2021-12-17   \n",
      "2        38.0      4474    57599  2018-04-27   \n",
      "3        26.5      4134    59982  2015-12-18   \n",
      "4        35.5      4232    51987  2017-12-15   \n",
      "\n",
      "                           Distributor  \n",
      "0  Walt Disney Studios Motion Pictures  \n",
      "1              Sony Pictures Releasing  \n",
      "2  Walt Disney Studios Motion Pictures  \n",
      "3  Walt Disney Studios Motion Pictures  \n",
      "4  Walt Disney Studios Motion Pictures  \n"
     ]
    }
   ],
   "source": [
    "print(\"The Preprocessed dataset is:\")\n",
    "print(df.head())"
   ]
  },
  {
   "cell_type": "code",
   "execution_count": null,
   "metadata": {},
   "outputs": [],
   "source": []
  }
 ],
 "metadata": {
  "kernelspec": {
   "display_name": "Python 3 (ipykernel)",
   "language": "python",
   "name": "python3"
  },
  "language_info": {
   "codemirror_mode": {
    "name": "ipython",
    "version": 3
   },
   "file_extension": ".py",
   "mimetype": "text/x-python",
   "name": "python",
   "nbconvert_exporter": "python",
   "pygments_lexer": "ipython3",
   "version": "3.11.3"
  }
 },
 "nbformat": 4,
 "nbformat_minor": 2
}
