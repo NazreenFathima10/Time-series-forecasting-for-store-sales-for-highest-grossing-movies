{
  "nbformat": 4,
  "nbformat_minor": 0,
  "metadata": {
    "colab": {
      "provenance": []
    },
    "kernelspec": {
      "name": "python3",
      "display_name": "Python 3"
    },
    "language_info": {
      "name": "python"
    }
  },
  "cells": [
    {
      "cell_type": "code",
      "execution_count": 1,
      "metadata": {
        "id": "RSIXItmNABXu"
      },
      "outputs": [],
      "source": [
        "import pandas as pd\n",
        "movie_data = pd.read_csv(\"/content/preprocessed_Top_Highest_Openings.csv\")"
      ]
    },
    {
      "cell_type": "code",
      "source": [
        "import pandas as pd\n",
        "import numpy as np\n",
        "\n",
        "# Assuming you have already loaded your dataset into 'movie_data'\n",
        "\n",
        "# Convert 'Date' column to datetime\n",
        "movie_data['Date'] = pd.to_datetime(movie_data['Date'])\n",
        "\n",
        "# Fill NaN values in 'Opening' and 'Total Gross' with random meaningful values\n",
        "movie_data['Opening'].fillna(np.random.randint(1000000, 10000000), inplace=True)\n",
        "movie_data['Total Gross'].fillna(np.random.randint(10000000, 50000000), inplace=True)\n",
        "\n",
        "# Add lagged features\n",
        "movie_data['Opening_Lag1'] = movie_data['Opening'].shift(1)\n",
        "movie_data['TotalGross_Lag1'] = movie_data['Total Gross'].shift(1)\n",
        "\n",
        "# Add rolling mean features\n",
        "movie_data['Opening_RollingMean7'] = movie_data['Opening'].rolling(window=7).mean()\n",
        "movie_data['TotalGross_RollingMean7'] = movie_data['Total Gross'].rolling(window=7).mean()\n",
        "\n",
        "# Define meaningful random values for the extra added attributes\n",
        "holiday_values = [0, 1]  # Assuming 0 represents non-holiday and 1 represents holiday\n",
        "random_holiday = np.random.choice(holiday_values, size=len(movie_data))\n",
        "\n",
        "# Add 'Holiday' column with meaningful random values\n",
        "movie_data['Holiday'] = random_holiday\n",
        "\n",
        "print(movie_data.head())\n"
      ],
      "metadata": {
        "colab": {
          "base_uri": "https://localhost:8080/"
        },
        "id": "eldW1LiMgVYL",
        "outputId": "486d8549-3aa5-4bff-879d-9b23b6d380c2"
      },
      "execution_count": 2,
      "outputs": [
        {
          "output_type": "stream",
          "name": "stdout",
          "text": [
            "                                      Release    Opening  Total Gross  \\\n",
            "0                           Avengers: Endgame  357115007    858373000   \n",
            "1                     Spider-Man: No Way Home  260138569    804793477   \n",
            "2                      Avengers: Infinity War  257698183    678815482   \n",
            "3  Star Wars: Episode VII - The Force Awakens  247966675    936662225   \n",
            "4     Star Wars: Episode VIII - The Last Jedi  220009584    620181382   \n",
            "\n",
            "   % of Total  Theaters  Average       Date  \\\n",
            "0        41.6      4662    76601 2019-04-26   \n",
            "1        32.3      4336    59995 2021-12-17   \n",
            "2        38.0      4474    57599 2018-04-27   \n",
            "3        26.5      4134    59982 2015-12-18   \n",
            "4        35.5      4232    51987 2017-12-15   \n",
            "\n",
            "                           Distributor  Opening_Lag1  TotalGross_Lag1  \\\n",
            "0  Walt Disney Studios Motion Pictures           NaN              NaN   \n",
            "1              Sony Pictures Releasing   357115007.0      858373000.0   \n",
            "2  Walt Disney Studios Motion Pictures   260138569.0      804793477.0   \n",
            "3  Walt Disney Studios Motion Pictures   257698183.0      678815482.0   \n",
            "4  Walt Disney Studios Motion Pictures   247966675.0      936662225.0   \n",
            "\n",
            "   Opening_RollingMean7  TotalGross_RollingMean7  Holiday  \n",
            "0                   NaN                      NaN        1  \n",
            "1                   NaN                      NaN        1  \n",
            "2                   NaN                      NaN        0  \n",
            "3                   NaN                      NaN        0  \n",
            "4                   NaN                      NaN        1  \n"
          ]
        }
      ]
    },
    {
      "cell_type": "code",
      "source": [
        "import pandas as pd\n",
        "import numpy as np\n",
        "\n",
        "# Assuming movie_data is your existing DataFrame\n",
        "\n",
        "# Fill meaningful random values to the whole dataset\n",
        "np.random.seed(42)\n",
        "movie_data = pd.DataFrame(np.random.randint(0, 100, size=(len(movie_data), len(movie_data.columns))), columns=movie_data.columns)\n",
        "\n",
        "# Convert 'Date' column to datetime\n",
        "movie_data['Date'] = pd.to_datetime(movie_data['Date'])\n",
        "\n",
        "# Calculate lagged features without NaNs\n",
        "movie_data['Opening_Lag1'] = movie_data['Opening'].shift(1).fillna(method='bfill')\n",
        "movie_data['TotalGross_Lag1'] = movie_data['Total Gross'].shift(1).fillna(method='bfill')\n",
        "\n",
        "# Calculate rolling means without NaNs\n",
        "movie_data['Opening_RollingMean7'] = movie_data['Opening'].rolling(window=7, min_periods=1).mean()\n",
        "movie_data['TotalGross_RollingMean7'] = movie_data['Total Gross'].rolling(window=7, min_periods=1).mean()\n",
        "\n",
        "# Define holidays\n",
        "holidays = ['2024-01-01', '2024-07-04', '2024-12-25']\n",
        "# Create 'Holiday' column with 1 for holidays and 0 otherwise\n",
        "movie_data['Holiday'] = movie_data['Date'].isin(holidays).astype(int)\n",
        "\n",
        "# Print info about the dataset\n",
        "print(movie_data.info())\n",
        "\n",
        "# Save modified dataset to CSV\n",
        "movie_data.to_csv('modified_movie_data.csv', index=False)\n"
      ],
      "metadata": {
        "colab": {
          "base_uri": "https://localhost:8080/"
        },
        "id": "KnDyZaTygXO6",
        "outputId": "3e300720-e0cc-44c8-dc27-ef547b561ec7"
      },
      "execution_count": 5,
      "outputs": [
        {
          "output_type": "stream",
          "name": "stdout",
          "text": [
            "<class 'pandas.core.frame.DataFrame'>\n",
            "RangeIndex: 1000 entries, 0 to 999\n",
            "Data columns (total 13 columns):\n",
            " #   Column                   Non-Null Count  Dtype         \n",
            "---  ------                   --------------  -----         \n",
            " 0   Release                  1000 non-null   int64         \n",
            " 1   Opening                  1000 non-null   int64         \n",
            " 2   Total Gross              1000 non-null   int64         \n",
            " 3   % of Total               1000 non-null   int64         \n",
            " 4   Theaters                 1000 non-null   int64         \n",
            " 5   Average                  1000 non-null   int64         \n",
            " 6   Date                     1000 non-null   datetime64[ns]\n",
            " 7   Distributor              1000 non-null   int64         \n",
            " 8   Opening_Lag1             1000 non-null   float64       \n",
            " 9   TotalGross_Lag1          1000 non-null   float64       \n",
            " 10  Opening_RollingMean7     1000 non-null   float64       \n",
            " 11  TotalGross_RollingMean7  1000 non-null   float64       \n",
            " 12  Holiday                  1000 non-null   int64         \n",
            "dtypes: datetime64[ns](1), float64(4), int64(8)\n",
            "memory usage: 101.7 KB\n",
            "None\n"
          ]
        }
      ]
    },
    {
      "cell_type": "code",
      "source": [
        "import pandas as pd\n",
        "import numpy as np\n",
        "from datetime import timedelta\n",
        "\n",
        "# Assuming movie_data is your existing DataFrame\n",
        "\n",
        "# Fill meaningful random values to the whole dataset\n",
        "np.random.seed(42)\n",
        "movie_data = pd.DataFrame(np.random.randint(0, 100, size=(len(movie_data), len(movie_data.columns))), columns=movie_data.columns)\n",
        "\n",
        "# Generate random dates for the 'Date' column\n",
        "start_date = pd.Timestamp('2023-01-01')\n",
        "end_date = pd.Timestamp('2024-12-31')\n",
        "dates = pd.date_range(start_date, end_date, freq='D')\n",
        "movie_data['Date'] = np.random.choice(dates, len(movie_data), replace=True)\n",
        "\n",
        "# Calculate lagged features without NaNs\n",
        "movie_data['Opening_Lag1'] = movie_data['Opening'].shift(1).fillna(method='bfill')\n",
        "movie_data['TotalGross_Lag1'] = movie_data['Total Gross'].shift(1).fillna(method='bfill')\n",
        "\n",
        "# Calculate rolling means without NaNs\n",
        "movie_data['Opening_RollingMean7'] = movie_data['Opening'].rolling(window=7, min_periods=1).mean()\n",
        "movie_data['TotalGross_RollingMean7'] = movie_data['Total Gross'].rolling(window=7, min_periods=1).mean()\n",
        "\n",
        "# Define holidays\n",
        "holidays = pd.date_range('2024-01-01', '2024-12-31', freq='B').strftime('%Y-%m-%d').tolist()\n",
        "# Mark holidays in the 'Holiday' column\n",
        "movie_data['Holiday'] = np.where(movie_data['Date'].isin(holidays), 1, 0)\n",
        "\n",
        "# Print info about the dataset\n",
        "print(movie_data.info())\n",
        "\n",
        "# Save modified dataset to CSV\n",
        "movie_data.to_csv('modified_movie_data1.csv', index=False)\n"
      ],
      "metadata": {
        "id": "FfOFGsp9h41S",
        "outputId": "ab514912-2b8e-44a8-df1a-f2f53752f368",
        "colab": {
          "base_uri": "https://localhost:8080/"
        }
      },
      "execution_count": 6,
      "outputs": [
        {
          "output_type": "stream",
          "name": "stdout",
          "text": [
            "<class 'pandas.core.frame.DataFrame'>\n",
            "RangeIndex: 1000 entries, 0 to 999\n",
            "Data columns (total 13 columns):\n",
            " #   Column                   Non-Null Count  Dtype         \n",
            "---  ------                   --------------  -----         \n",
            " 0   Release                  1000 non-null   int64         \n",
            " 1   Opening                  1000 non-null   int64         \n",
            " 2   Total Gross              1000 non-null   int64         \n",
            " 3   % of Total               1000 non-null   int64         \n",
            " 4   Theaters                 1000 non-null   int64         \n",
            " 5   Average                  1000 non-null   int64         \n",
            " 6   Date                     1000 non-null   datetime64[ns]\n",
            " 7   Distributor              1000 non-null   int64         \n",
            " 8   Opening_Lag1             1000 non-null   float64       \n",
            " 9   TotalGross_Lag1          1000 non-null   float64       \n",
            " 10  Opening_RollingMean7     1000 non-null   float64       \n",
            " 11  TotalGross_RollingMean7  1000 non-null   float64       \n",
            " 12  Holiday                  1000 non-null   int64         \n",
            "dtypes: datetime64[ns](1), float64(4), int64(8)\n",
            "memory usage: 101.7 KB\n",
            "None\n"
          ]
        }
      ]
    },
    {
      "cell_type": "markdown",
      "source": [
        "task 2\n"
      ],
      "metadata": {
        "id": "g3FqkMTfqZ_g"
      }
    },
    {
      "cell_type": "code",
      "source": [
        "import pandas as pd\n",
        "import numpy as np\n",
        "\n",
        "# Assuming movie_data is your existing DataFrame\n",
        "\n",
        "# Fill meaningful random values to the whole dataset\n",
        "np.random.seed(42)\n",
        "movie_data = pd.DataFrame(np.random.randint(0, 100, size=(len(movie_data), len(movie_data.columns))), columns=movie_data.columns)\n",
        "\n",
        "# Generate random dates for the 'Date' column\n",
        "start_date = pd.Timestamp('2023-01-01')\n",
        "end_date = pd.Timestamp('2024-12-31')\n",
        "dates = pd.date_range(start_date, end_date, freq='D')\n",
        "movie_data['Date'] = np.random.choice(dates, len(movie_data), replace=True)\n",
        "\n",
        "# Calculate lagged features without NaNs\n",
        "movie_data['Opening_Lag1'] = movie_data['Opening'].shift(1).fillna(method='bfill')\n",
        "movie_data['TotalGross_Lag1'] = movie_data['Total Gross'].shift(1).fillna(method='bfill')\n",
        "\n",
        "# Calculate rolling means without NaNs\n",
        "movie_data['Opening_RollingMean7'] = movie_data['Opening'].rolling(window=7, min_periods=1).mean()\n",
        "movie_data['TotalGross_RollingMean7'] = movie_data['Total Gross'].rolling(window=7, min_periods=1).mean()\n",
        "\n",
        "# Define holidays\n",
        "holidays = pd.date_range('2024-01-01', '2024-12-31', freq='B').strftime('%Y-%m-%d').tolist()\n",
        "# Mark holidays in the 'Holiday' column\n",
        "movie_data['Holiday'] = np.where(movie_data['Date'].isin(holidays), 1, 0)\n",
        "\n",
        "# Check if 'Genre' and 'Director' columns exist\n",
        "if 'Genre' in movie_data.columns:\n",
        "    genres = ['Action', 'Comedy', 'Drama']\n",
        "    for genre in genres:\n",
        "        movie_data[genre] = movie_data['Genre'].str.contains(genre, case=False).astype(int)\n",
        "    # Fill newly added genre columns with random values\n",
        "    for genre in genres:\n",
        "        movie_data[genre] = np.random.randint(0, 2, size=len(movie_data))\n",
        "\n",
        "if 'Director' in movie_data.columns:\n",
        "    director_avg_opening = movie_data.groupby('Director')['Opening'].mean().reset_index()\n",
        "    director_avg_total_gross = movie_data.groupby('Director')['Total Gross'].mean().reset_index()\n",
        "    movie_data = movie_data.merge(director_avg_opening, on='Director', suffixes=('', '_AvgOpening'))\n",
        "    movie_data = movie_data.merge(director_avg_total_gross, on='Director', suffixes=('', '_AvgTotalGross'))\n",
        "    # Fill newly added director columns with random values\n",
        "    movie_data['Opening_AvgOpening'] = np.random.randint(0, 100, size=len(movie_data))\n",
        "    movie_data['Total Gross_AvgTotalGross'] = np.random.randint(0, 1000000, size=len(movie_data))\n",
        "\n",
        "print(movie_data.info())\n",
        "# Save modified dataset to CSV\n",
        "movie_data.to_csv('modified_movie_data3.csv', index=False)"
      ],
      "metadata": {
        "colab": {
          "base_uri": "https://localhost:8080/"
        },
        "id": "Jft__W3eqb2d",
        "outputId": "ea6a5c72-7b5c-4961-c45c-9331512a2734"
      },
      "execution_count": null,
      "outputs": [
        {
          "output_type": "stream",
          "name": "stdout",
          "text": [
            "<class 'pandas.core.frame.DataFrame'>\n",
            "RangeIndex: 1000 entries, 0 to 999\n",
            "Data columns (total 13 columns):\n",
            " #   Column                   Non-Null Count  Dtype         \n",
            "---  ------                   --------------  -----         \n",
            " 0   Release                  1000 non-null   int64         \n",
            " 1   Opening                  1000 non-null   int64         \n",
            " 2   Total Gross              1000 non-null   int64         \n",
            " 3   % of Total               1000 non-null   int64         \n",
            " 4   Theaters                 1000 non-null   int64         \n",
            " 5   Average                  1000 non-null   int64         \n",
            " 6   Date                     1000 non-null   datetime64[ns]\n",
            " 7   Distributor              1000 non-null   int64         \n",
            " 8   Opening_Lag1             1000 non-null   float64       \n",
            " 9   TotalGross_Lag1          1000 non-null   float64       \n",
            " 10  Opening_RollingMean7     1000 non-null   float64       \n",
            " 11  TotalGross_RollingMean7  1000 non-null   float64       \n",
            " 12  Holiday                  1000 non-null   int64         \n",
            "dtypes: datetime64[ns](1), float64(4), int64(8)\n",
            "memory usage: 101.7 KB\n",
            "None\n"
          ]
        }
      ]
    },
    {
      "cell_type": "code",
      "source": [
        "import pandas as pd\n",
        "import numpy as np\n",
        "\n",
        "# Assuming movie_data is your existing DataFrame\n",
        "\n",
        "# Fill meaningful random values to the whole dataset\n",
        "np.random.seed(42)\n",
        "movie_data = pd.DataFrame(np.random.randint(0, 100, size=(len(movie_data), len(movie_data.columns))), columns=movie_data.columns)\n",
        "\n",
        "# Generate random dates for the 'Date' column\n",
        "start_date = pd.Timestamp('2023-01-01')\n",
        "end_date = pd.Timestamp('2024-12-31')\n",
        "dates = pd.date_range(start_date, end_date, freq='D')\n",
        "movie_data['Date'] = np.random.choice(dates, len(movie_data), replace=True)\n",
        "\n",
        "# Calculate lagged features without NaNs\n",
        "movie_data['Opening_Lag1'] = movie_data['Opening'].shift(1).fillna(method='bfill')\n",
        "movie_data['TotalGross_Lag1'] = movie_data['Total Gross'].shift(1).fillna(method='bfill')\n",
        "\n",
        "# Calculate rolling means without NaNs\n",
        "movie_data['Opening_RollingMean7'] = movie_data['Opening'].rolling(window=7, min_periods=1).mean()\n",
        "movie_data['TotalGross_RollingMean7'] = movie_data['Total Gross'].rolling(window=7, min_periods=1).mean()\n",
        "\n",
        "# Define holidays\n",
        "holidays = pd.date_range('2024-01-01', '2024-12-31', freq='B').strftime('%Y-%m-%d').tolist()\n",
        "# Mark holidays in the 'Holiday' column\n",
        "movie_data['Holiday'] = np.where(movie_data['Date'].isin(holidays), 1, 0)\n",
        "\n",
        "# Add 'Genre' and 'Director' columns with meaningful strings\n",
        "movie_data['Genre'] = np.random.choice(['Action', 'Comedy', 'Drama'], len(movie_data))\n",
        "movie_data['Director'] = np.random.choice(['Director1', 'Director2', 'Director3'], len(movie_data))\n",
        "\n",
        "# Check if 'Genre' and 'Director' columns exist\n",
        "if 'Genre' in movie_data.columns:\n",
        "    genres = ['Action', 'Comedy', 'Drama']\n",
        "    for genre in genres:\n",
        "        movie_data[genre] = movie_data['Genre'].str.contains(genre, case=False).astype(int)\n",
        "\n",
        "if 'Director' in movie_data.columns:\n",
        "    director_avg_opening = movie_data.groupby('Director')['Opening'].mean().reset_index()\n",
        "    director_avg_total_gross = movie_data.groupby('Director')['Total Gross'].mean().reset_index()\n",
        "    movie_data = movie_data.merge(director_avg_opening, on='Director', suffixes=('', '_AvgOpening'))\n",
        "    movie_data = movie_data.merge(director_avg_total_gross, on='Director', suffixes=('', '_AvgTotalGross'))\n",
        "\n",
        "print(movie_data.info())\n",
        "# Save modified dataset to CSV\n",
        "movie_data.to_csv('modified_movie_data3.csv', index=False)\n"
      ],
      "metadata": {
        "colab": {
          "base_uri": "https://localhost:8080/"
        },
        "id": "O1kwxslh3L4d",
        "outputId": "4aeb9ffc-64b8-46f4-f36d-4ce3bc8f34f2"
      },
      "execution_count": null,
      "outputs": [
        {
          "output_type": "stream",
          "name": "stdout",
          "text": [
            "<class 'pandas.core.frame.DataFrame'>\n",
            "RangeIndex: 1000 entries, 0 to 999\n",
            "Data columns (total 22 columns):\n",
            " #   Column                     Non-Null Count  Dtype         \n",
            "---  ------                     --------------  -----         \n",
            " 0   Release                    1000 non-null   int64         \n",
            " 1   Opening                    1000 non-null   int64         \n",
            " 2   Total Gross                1000 non-null   int64         \n",
            " 3   % of Total                 1000 non-null   int64         \n",
            " 4   Theaters                   1000 non-null   int64         \n",
            " 5   Average                    1000 non-null   int64         \n",
            " 6   Date                       1000 non-null   datetime64[ns]\n",
            " 7   Distributor                1000 non-null   int64         \n",
            " 8   Opening_Lag1               1000 non-null   float64       \n",
            " 9   TotalGross_Lag1            1000 non-null   float64       \n",
            " 10  Opening_RollingMean7       1000 non-null   float64       \n",
            " 11  TotalGross_RollingMean7    1000 non-null   float64       \n",
            " 12  Holiday                    1000 non-null   int64         \n",
            " 13  Genre                      1000 non-null   object        \n",
            " 14  Director                   1000 non-null   object        \n",
            " 15  Action                     1000 non-null   int64         \n",
            " 16  Comedy                     1000 non-null   int64         \n",
            " 17  Drama                      1000 non-null   int64         \n",
            " 18  Opening_AvgOpening         1000 non-null   int64         \n",
            " 19  Total Gross_AvgTotalGross  1000 non-null   int64         \n",
            " 20  Opening_AvgOpening         1000 non-null   float64       \n",
            " 21  Total Gross_AvgTotalGross  1000 non-null   float64       \n",
            "dtypes: datetime64[ns](1), float64(6), int64(13), object(2)\n",
            "memory usage: 172.0+ KB\n",
            "None\n"
          ]
        }
      ]
    },
    {
      "cell_type": "code",
      "source": [],
      "metadata": {
        "id": "bp255wxlQJ0T"
      },
      "execution_count": null,
      "outputs": []
    }
  ]
}