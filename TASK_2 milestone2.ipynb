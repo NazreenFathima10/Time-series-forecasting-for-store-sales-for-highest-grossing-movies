{
  "nbformat": 4,
  "nbformat_minor": 0,
  "metadata": {
    "colab": {
      "provenance": []
    },
    "kernelspec": {
      "name": "python3",
      "display_name": "Python 3"
    },
    "language_info": {
      "name": "python"
    }
  },
  "cells": [
    {
      "cell_type": "code",
      "execution_count": null,
      "metadata": {
        "id": "X2XQm4CkQ7p_"
      },
      "outputs": [],
      "source": [
        "import pandas as pd\n",
        "movie_data = pd.read_csv(\"/content/modified_movie_data2.csv\")"
      ]
    },
    {
      "cell_type": "code",
      "source": [
        "import pandas as pd\n",
        "import numpy as np\n",
        "\n",
        "# Assuming movie_data is your existing DataFrame\n",
        "\n",
        "# Fill meaningful random values to the whole dataset\n",
        "np.random.seed(42)\n",
        "movie_data = pd.DataFrame(np.random.randint(0, 100, size=(len(movie_data), len(movie_data.columns))), columns=movie_data.columns)\n",
        "\n",
        "# Generate random dates for the 'Date' column\n",
        "start_date = pd.Timestamp('2023-01-01')\n",
        "end_date = pd.Timestamp('2024-12-31')\n",
        "dates = pd.date_range(start_date, end_date, freq='D')\n",
        "movie_data['Date'] = np.random.choice(dates, len(movie_data), replace=True)\n",
        "\n",
        "# Calculate lagged features without NaNs\n",
        "movie_data['Opening_Lag1'] = movie_data['Opening'].shift(1).fillna(method='bfill')\n",
        "movie_data['TotalGross_Lag1'] = movie_data['Total Gross'].shift(1).fillna(method='bfill')\n",
        "\n",
        "# Calculate rolling means without NaNs\n",
        "movie_data['Opening_RollingMean7'] = movie_data['Opening'].rolling(window=7, min_periods=1).mean()\n",
        "movie_data['TotalGross_RollingMean7'] = movie_data['Total Gross'].rolling(window=7, min_periods=1).mean()\n",
        "\n",
        "# Define holidays\n",
        "holidays = pd.date_range('2024-01-01', '2024-12-31', freq='B').strftime('%Y-%m-%d').tolist()\n",
        "# Mark holidays in the 'Holiday' column\n",
        "movie_data['Holiday'] = np.where(movie_data['Date'].isin(holidays), 1, 0)\n",
        "\n",
        "# Add 'Genre' and 'Director' columns with meaningful strings\n",
        "movie_data['Genre'] = np.random.choice(['Action', 'Comedy', 'Drama'], len(movie_data))\n",
        "movie_data['Director'] = np.random.choice(['Director1', 'Director2', 'Director3'], len(movie_data))\n",
        "\n",
        "# Check if 'Genre' and 'Director' columns exist\n",
        "if 'Genre' in movie_data.columns:\n",
        "    genres = ['Action', 'Comedy', 'Drama']\n",
        "    for genre in genres:\n",
        "        movie_data[genre] = movie_data['Genre'].str.contains(genre, case=False).astype(int)\n",
        "\n",
        "if 'Director' in movie_data.columns:\n",
        "    director_avg_opening = movie_data.groupby('Director')['Opening'].mean().reset_index()\n",
        "    director_avg_total_gross = movie_data.groupby('Director')['Total Gross'].mean().reset_index()\n",
        "    movie_data = movie_data.merge(director_avg_opening, on='Director', suffixes=('', '_AvgOpening'))\n",
        "    movie_data = movie_data.merge(director_avg_total_gross, on='Director', suffixes=('', '_AvgTotalGross'))\n",
        "\n",
        "print(movie_data.info())\n",
        "# Save modified dataset to CSV\n",
        "movie_data.to_csv('modified_movie_data4.csv', index=False)"
      ],
      "metadata": {
        "colab": {
          "base_uri": "https://localhost:8080/"
        },
        "id": "zVyQbdPjRI1w",
        "outputId": "681ab418-e58a-4824-ed1a-d3e08fce4972"
      },
      "execution_count": null,
      "outputs": [
        {
          "output_type": "stream",
          "name": "stdout",
          "text": [
            "<class 'pandas.core.frame.DataFrame'>\n",
            "RangeIndex: 1000 entries, 0 to 999\n",
            "Data columns (total 22 columns):\n",
            " #   Column                     Non-Null Count  Dtype         \n",
            "---  ------                     --------------  -----         \n",
            " 0   Release                    1000 non-null   int64         \n",
            " 1   Opening                    1000 non-null   int64         \n",
            " 2   Total Gross                1000 non-null   int64         \n",
            " 3   % of Total                 1000 non-null   int64         \n",
            " 4   Theaters                   1000 non-null   int64         \n",
            " 5   Average                    1000 non-null   int64         \n",
            " 6   Date                       1000 non-null   datetime64[ns]\n",
            " 7   Distributor                1000 non-null   int64         \n",
            " 8   Opening_Lag1               1000 non-null   float64       \n",
            " 9   TotalGross_Lag1            1000 non-null   float64       \n",
            " 10  Opening_RollingMean7       1000 non-null   float64       \n",
            " 11  TotalGross_RollingMean7    1000 non-null   float64       \n",
            " 12  Holiday                    1000 non-null   int64         \n",
            " 13  Genre                      1000 non-null   object        \n",
            " 14  Director                   1000 non-null   object        \n",
            " 15  Action                     1000 non-null   int64         \n",
            " 16  Comedy                     1000 non-null   int64         \n",
            " 17  Drama                      1000 non-null   int64         \n",
            " 18  Opening_AvgOpening         1000 non-null   int64         \n",
            " 19  Total Gross_AvgTotalGross  1000 non-null   int64         \n",
            " 20  Opening_AvgOpening         1000 non-null   float64       \n",
            " 21  Total Gross_AvgTotalGross  1000 non-null   float64       \n",
            "dtypes: datetime64[ns](1), float64(6), int64(13), object(2)\n",
            "memory usage: 172.0+ KB\n",
            "None\n"
          ]
        }
      ]
    }
  ]
}