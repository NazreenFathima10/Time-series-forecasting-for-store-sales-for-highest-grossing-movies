{
  "nbformat": 4,
  "nbformat_minor": 0,
  "metadata": {
    "colab": {
      "provenance": []
    },
    "kernelspec": {
      "name": "python3",
      "display_name": "Python 3"
    },
    "language_info": {
      "name": "python"
    }
  },
  "cells": [
    {
      "cell_type": "code",
      "execution_count": null,
      "metadata": {
        "id": "S7fPPLoTXHFo"
      },
      "outputs": [],
      "source": [
        "import pandas as pd\n",
        "movie_data = pd.read_csv(\"/content/modified_movie_data5.csv\")"
      ]
    },
    {
      "cell_type": "code",
      "source": [
        "import pandas as pd\n",
        "from sklearn.preprocessing import MinMaxScaler, StandardScaler\n",
        "from sklearn.impute import SimpleImputer\n",
        "from sklearn.preprocessing import OneHotEncoder\n",
        "\n",
        "# Load the modified dataset\n",
        "movie_data = pd.read_csv('modified_movie_data5.csv')\n",
        "\n",
        "# Handling Missing Values\n",
        "# Assuming 'Theaters', 'Opening_Lag1', and 'TotalGross_Lag1' have missing values\n",
        "imputer = SimpleImputer(strategy='mean')\n",
        "movie_data[['Theaters', 'Opening_Lag1', 'TotalGross_Lag1']] = imputer.fit_transform(\n",
        "    movie_data[['Theaters', 'Opening_Lag1', 'TotalGross_Lag1']])\n",
        "\n",
        "# Encoding Categorical Variables\n",
        "# Assuming 'Genre' and 'Director' are categorical features\n",
        "encoder = OneHotEncoder(sparse=False, drop='first')\n",
        "encoded_features = encoder.fit_transform(movie_data[['Genre', 'Director']])\n",
        "encoded_df = pd.DataFrame(encoded_features, columns=[f\"{col}_{val}\" for col, vals in zip(['Genre', 'Director'], encoder.categories_) for val in vals[1:]])\n",
        "movie_data = pd.concat([movie_data, encoded_df], axis=1)\n",
        "movie_data.drop(['Genre', 'Director'], axis=1, inplace=True)\n",
        "\n",
        "# Scaling Numerical Features\n",
        "scaler = MinMaxScaler()  # You can also try StandardScaler()\n",
        "numerical_columns = ['Opening', 'Total Gross', 'Theaters', 'Opening_Lag1', 'TotalGross_Lag1', 'Opening_RollingMean7', 'TotalGross_RollingMean7']\n",
        "movie_data[numerical_columns] = scaler.fit_transform(movie_data[numerical_columns])\n",
        "\n",
        "# Creating New Features (if needed)\n",
        "# Example: Create a feature representing the ratio of Opening to Total Gross\n",
        "movie_data['Opening_to_TotalGross_Ratio'] = movie_data['Opening'] / movie_data['Total Gross']\n",
        "\n",
        "# Save the transformed dataset\n",
        "movie_data.to_csv('transformed_movie_data6.csv', index=False)\n"
      ],
      "metadata": {
        "colab": {
          "base_uri": "https://localhost:8080/"
        },
        "id": "t5p-Q9RMXc33",
        "outputId": "9fd832cc-dbd0-49dd-b22c-ab9d0058580a"
      },
      "execution_count": null,
      "outputs": [
        {
          "output_type": "stream",
          "name": "stderr",
          "text": [
            "/usr/local/lib/python3.10/dist-packages/sklearn/preprocessing/_encoders.py:868: FutureWarning: `sparse` was renamed to `sparse_output` in version 1.2 and will be removed in 1.4. `sparse_output` is ignored unless you leave `sparse` to its default value.\n",
            "  warnings.warn(\n"
          ]
        }
      ]
    }
  ]
}