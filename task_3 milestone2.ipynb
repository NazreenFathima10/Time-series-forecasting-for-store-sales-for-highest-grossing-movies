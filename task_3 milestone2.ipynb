{
  "nbformat": 4,
  "nbformat_minor": 0,
  "metadata": {
    "colab": {
      "provenance": []
    },
    "kernelspec": {
      "name": "python3",
      "display_name": "Python 3"
    },
    "language_info": {
      "name": "python"
    }
  },
  "cells": [
    {
      "cell_type": "code",
      "source": [
        "import pandas as pd\n",
        "movie_data = pd.read_csv(\"/content/modified_movie_data4.csv\")"
      ],
      "metadata": {
        "id": "MMumtMybVkTd"
      },
      "execution_count": null,
      "outputs": []
    },
    {
      "cell_type": "code",
      "execution_count": null,
      "metadata": {
        "colab": {
          "base_uri": "https://localhost:8080/"
        },
        "id": "-8jcfuQGVgHG",
        "outputId": "640cb67e-f9e6-45f3-869f-66045442a52c"
      },
      "outputs": [
        {
          "output_type": "stream",
          "name": "stdout",
          "text": [
            "              Opening  Total Gross\n",
            "Opening      1.000000    -0.073939\n",
            "Total Gross -0.073939     1.000000\n",
            "Numerical columns not found in selected features.\n",
            "<class 'pandas.core.frame.DataFrame'>\n",
            "RangeIndex: 1000 entries, 0 to 999\n",
            "Data columns (total 30 columns):\n",
            " #   Column                       Non-Null Count  Dtype  \n",
            "---  ------                       --------------  -----  \n",
            " 0   Release                      1000 non-null   int64  \n",
            " 1   Opening                      1000 non-null   int64  \n",
            " 2   Total Gross                  1000 non-null   int64  \n",
            " 3   % of Total                   1000 non-null   int64  \n",
            " 4   Theaters                     1000 non-null   int64  \n",
            " 5   Average                      1000 non-null   int64  \n",
            " 6   Date                         1000 non-null   object \n",
            " 7   Distributor                  1000 non-null   int64  \n",
            " 8   Opening_Lag1                 1000 non-null   float64\n",
            " 9   TotalGross_Lag1              1000 non-null   float64\n",
            " 10  Opening_RollingMean7         1000 non-null   float64\n",
            " 11  TotalGross_RollingMean7      1000 non-null   float64\n",
            " 12  Holiday                      1000 non-null   int64  \n",
            " 13  Genre                        1000 non-null   object \n",
            " 14  Director                     1000 non-null   object \n",
            " 15  Action                       1000 non-null   int64  \n",
            " 16  Comedy                       1000 non-null   int64  \n",
            " 17  Drama                        1000 non-null   int64  \n",
            " 18  Opening_AvgOpening           1000 non-null   int64  \n",
            " 19  Total Gross_AvgTotalGross    1000 non-null   int64  \n",
            " 20  Opening_AvgOpening.1         1000 non-null   float64\n",
            " 21  Total Gross_AvgTotalGross.1  1000 non-null   float64\n",
            " 22  Opening_AvgOpening           1000 non-null   float64\n",
            " 23  Total Gross_AvgTotalGross    1000 non-null   float64\n",
            " 24  Opening_AvgOpening           1000 non-null   float64\n",
            " 25  Total Gross_AvgTotalGross    1000 non-null   float64\n",
            " 26  Opening_AvgOpening           1000 non-null   float64\n",
            " 27  Total Gross_AvgTotalGross    1000 non-null   float64\n",
            " 28  Opening_AvgOpening           1000 non-null   float64\n",
            " 29  Total Gross_AvgTotalGross    1000 non-null   float64\n",
            "dtypes: float64(14), int64(13), object(3)\n",
            "memory usage: 234.5+ KB\n",
            "None\n"
          ]
        }
      ],
      "source": [
        "import pandas as pd\n",
        "from sklearn.preprocessing import MinMaxScaler\n",
        "\n",
        "# Assuming movie_data is your existing DataFrame\n",
        "\n",
        "if 'Opening' in movie_data.columns and 'Total Gross' in movie_data.columns:\n",
        "\n",
        "    numerical_columns = ['Opening', 'Total Gross']  # Add other numerical columns if necessary\n",
        "    correlation_matrix = movie_data[numerical_columns].corr()\n",
        "\n",
        "    print(correlation_matrix)\n",
        "\n",
        "    relevant_features = correlation_matrix[(correlation_matrix.abs() > 0.5) & (correlation_matrix != 1.0)].dropna(axis=0, how='all')\n",
        "    relevant_features = relevant_features.dropna(axis=1, how='all')\n",
        "\n",
        "    relevant_feature_names = relevant_features.index.tolist()\n",
        "\n",
        "    if all(feature in movie_data.columns for feature in ['Action', 'Comedy', 'Drama', 'Director']):\n",
        "        relevant_feature_names += ['Action', 'Comedy', 'Drama']\n",
        "        director_avg_opening = movie_data.groupby('Director')['Opening'].mean().reset_index()\n",
        "        director_avg_total_gross = movie_data.groupby('Director')['Total Gross'].mean().reset_index()\n",
        "        movie_data = movie_data.merge(director_avg_opening, on='Director', suffixes=('', '_AvgOpening'))\n",
        "        movie_data = movie_data.merge(director_avg_total_gross, on='Director', suffixes=('', '_AvgTotalGross'))\n",
        "        relevant_feature_names += ['Opening_AvgOpening', 'Total Gross_AvgTotalGross']\n",
        "\n",
        "        # Check if numerical_columns exist in selected_features_df\n",
        "        if all(col in selected_features_df.columns for col in numerical_columns):\n",
        "            # Scale numerical features to a range of 0 to 1\n",
        "            scaler = MinMaxScaler()\n",
        "            selected_features_df[numerical_columns] = scaler.fit_transform(selected_features_df[numerical_columns])\n",
        "\n",
        "            print(selected_features_df.head())\n",
        "        else:\n",
        "            print(\"Numerical columns not found in selected features.\")\n",
        "    else:\n",
        "        print(\"'Action', 'Comedy', 'Drama', 'Director' columns not found for feature inclusion.\")\n",
        "else:\n",
        "    print(\"'Opening' or 'Total Gross' columns not found for correlation analysis.\")\n",
        "print(movie_data.info())\n",
        "# Save modified dataset to CSV\n",
        "movie_data.to_csv('modified_movie_data5.csv', index=False)\n"
      ]
    }
  ]
}